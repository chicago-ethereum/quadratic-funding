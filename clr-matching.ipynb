{
 "cells": [
  {
   "cell_type": "code",
   "execution_count": 1,
   "metadata": {},
   "outputs": [],
   "source": [
    "import random\n",
    "from clr import *"
   ]
  },
  {
   "cell_type": "code",
   "execution_count": 2,
   "metadata": {},
   "outputs": [],
   "source": [
    "match_budget = 6000\n",
    "\n",
    "# generate some sample contributions to play with\n",
    "\n",
    "funder_ids = range(20)\n",
    "recipient_ids = range(5)\n",
    "\n",
    "contributions = [random.randint(1, 20) for i in range(25)]\n",
    "funders = random.choices(funder_ids, k = 25)\n",
    "recipients = random.choices(recipient_ids, k = 25)"
   ]
  },
  {
   "cell_type": "code",
   "execution_count": 4,
   "metadata": {},
   "outputs": [
    {
     "name": "stdout",
     "output_type": "stream",
     "text": [
      "[2, 4, 1, 2, 0, 3, 0, 2, 3, 1, 4, 3, 2, 2, 2, 4, 2, 1, 4, 1, 2, 0, 3, 2, 1]\n",
      "[12, 6, 1, 18, 1, 8, 11, 16, 2, 1, 9, 15, 14, 14, 17, 13, 19, 2, 4, 3, 17, 16, 16, 1, 11]\n",
      "[11, 14, 17, 6, 11, 19, 20, 16, 4, 10, 12, 9, 13, 8, 19, 9, 5, 19, 10, 18, 11, 1, 11, 8, 10]\n"
     ]
    }
   ],
   "source": [
    "print(recipients)\n",
    "print(funders)\n",
    "print(contributions)"
   ]
  },
  {
   "cell_type": "code",
   "execution_count": 5,
   "metadata": {},
   "outputs": [],
   "source": [
    "grants, recipient_grant_sums, clr = clr(recipients, funders, contributions, match_budget)"
   ]
  },
  {
   "cell_type": "code",
   "execution_count": null,
   "metadata": {},
   "outputs": [],
   "source": []
  }
 ],
 "metadata": {
  "kernelspec": {
   "display_name": "quadratic-funding",
   "language": "python",
   "name": "quadratic-funding"
  },
  "language_info": {
   "codemirror_mode": {
    "name": "ipython",
    "version": 3
   },
   "file_extension": ".py",
   "mimetype": "text/x-python",
   "name": "python",
   "nbconvert_exporter": "python",
   "pygments_lexer": "ipython3",
   "version": "3.8.1"
  }
 },
 "nbformat": 4,
 "nbformat_minor": 2
}
