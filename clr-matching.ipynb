{
 "cells": [
  {
   "cell_type": "code",
   "execution_count": 4,
   "metadata": {},
   "outputs": [],
   "source": [
    "import random"
   ]
  },
  {
   "cell_type": "code",
   "execution_count": 5,
   "metadata": {},
   "outputs": [],
   "source": [
    "match_budget = 6000\n",
    "\n",
    "# generate some sample contributions to play with\n",
    "\n",
    "funder_ids = range(20)\n",
    "recipient_ids = range(5)\n",
    "\n",
    "contributions = [random.randint(1, 20) for i in range(25)]\n",
    "funders = random.choices(funder_ids, k = 25)\n",
    "recipients = random.choices(recipient_ids, k = 25)"
   ]
  },
  {
   "cell_type": "code",
   "execution_count": 6,
   "metadata": {},
   "outputs": [
    {
     "name": "stdout",
     "output_type": "stream",
     "text": [
      "[2, 3, 0, 1, 1, 4, 3, 0, 0, 0, 0, 3, 2, 3, 3, 3, 3, 2, 4, 0, 2, 0, 1, 1, 4]\n",
      "[14, 6, 8, 9, 3, 2, 0, 14, 11, 3, 15, 17, 6, 9, 7, 11, 1, 1, 15, 8, 9, 13, 11, 17, 18]\n",
      "[17, 14, 9, 9, 5, 12, 4, 10, 1, 4, 17, 10, 17, 1, 6, 15, 20, 9, 20, 13, 19, 13, 12, 20, 14]\n"
     ]
    }
   ],
   "source": [
    "print(recipients)\n",
    "print(funders)\n",
    "print(contributions)"
   ]
  },
  {
   "cell_type": "code",
   "execution_count": 17,
   "metadata": {},
   "outputs": [],
   "source": [
    "def join_raw_data(recipients, funders, contribution_amounts):\n",
    "    return list(zip(recipients, funders, contribution_amounts))\n",
    "    \n",
    "def aggregate(grants):\n",
    "    aggregated = {}\n",
    "    for recipient, funder, contribution in grants:\n",
    "        if recipient not in aggregated:\n",
    "            aggregated[recipient] = {}\n",
    "        aggregated[recipient][funder] = aggregated[recipient].get(funder, 0) + contribution\n",
    "    return aggregated\n",
    "\n",
    "def recipient_grant_sum(grants):\n",
    "    sums = {key:sum(value.values()) for key, value in grants.items()}\n",
    "    return sums\n",
    "    \n",
    "def calc_lr_matches(grants):\n",
    "    matches = {}\n",
    "    for recipient in grants:\n",
    "        sum_sqrts = sum([i**(1/2) for i in grants[recipient].values()])\n",
    "        squared = sum_sqrts**2\n",
    "        matches[recipient] = squared\n",
    "    return matches\n",
    "\n",
    "def constrain_by_budget(matches, budget):\n",
    "    raw_total = sum(matches.values())\n",
    "    constrained = {key:value/raw_total * budget for key, value in matches.items()}\n",
    "    return constrained\n",
    "\n",
    "def clr(recipients, funders, contribution_amounts, budget):\n",
    "    raw_grants = join_raw_data(recipients, funders, contribution_amounts)\n",
    "    grants = aggregate(raw_grants)\n",
    "    recipient_grant_sums = recipient_grant_sum(grants)\n",
    "    lr_matches = calc_lr_matches(grants)\n",
    "    clr = constrain_by_budget(lr_matches, budget)\n",
    "    \n",
    "    return grants, recipient_grant_sums, clr"
   ]
  },
  {
   "cell_type": "code",
   "execution_count": null,
   "metadata": {},
   "outputs": [],
   "source": []
  }
 ],
 "metadata": {
  "kernelspec": {
   "display_name": "quadratic-funding",
   "language": "python",
   "name": "quadratic-funding"
  },
  "language_info": {
   "codemirror_mode": {
    "name": "ipython",
    "version": 3
   },
   "file_extension": ".py",
   "mimetype": "text/x-python",
   "name": "python",
   "nbconvert_exporter": "python",
   "pygments_lexer": "ipython3",
   "version": "3.8.1"
  }
 },
 "nbformat": 4,
 "nbformat_minor": 2
}
