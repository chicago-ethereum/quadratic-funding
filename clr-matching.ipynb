{
 "cells": [
  {
   "cell_type": "code",
   "execution_count": 1,
   "metadata": {},
   "outputs": [],
   "source": [
    "import random"
   ]
  },
  {
   "cell_type": "code",
   "execution_count": 16,
   "metadata": {},
   "outputs": [],
   "source": [
    "match_budget = 6000\n",
    "\n",
    "# generate some sample contributions to play with\n",
    "\n",
    "funder_ids = range(20)\n",
    "recipient_ids = range(5)\n",
    "\n",
    "contributions = [random.randint(1, 20) for i in range(25)]\n",
    "funders = random.choices(funder_ids, k = 25)\n",
    "recipients = random.choices(recipient_ids, k = 25)"
   ]
  },
  {
   "cell_type": "code",
   "execution_count": 17,
   "metadata": {},
   "outputs": [
    {
     "name": "stdout",
     "output_type": "stream",
     "text": [
      "[4, 1, 2, 2, 0, 2, 0, 1, 1, 4, 2, 0, 0, 3, 3, 4, 1, 0, 1, 2, 4, 1, 3, 4, 1]\n",
      "[0, 18, 15, 0, 18, 10, 13, 2, 5, 8, 5, 10, 9, 8, 1, 10, 19, 16, 18, 19, 12, 2, 16, 5, 13]\n",
      "[16, 6, 16, 8, 12, 13, 17, 8, 17, 17, 11, 6, 15, 20, 20, 14, 13, 8, 20, 3, 7, 13, 17, 8, 9]\n"
     ]
    }
   ],
   "source": [
    "print(recipients)\n",
    "print(funders)\n",
    "print(contributions)"
   ]
  },
  {
   "cell_type": "code",
   "execution_count": 18,
   "metadata": {},
   "outputs": [],
   "source": [
    "def join_raw_data(recipients, funders, contribution_amounts):\n",
    "    return list(zip(recipients, funders, contribution_amounts))\n",
    "    \n",
    "def aggregate(grants):\n",
    "    aggregated = {}\n",
    "    for recipient, funder, contribution in grants:\n",
    "        if recipient not in aggregated:\n",
    "            aggregated[recipient] = {}\n",
    "        aggregated[recipient][funder] = aggregated[recipient].get(funder, 0) + contribution\n",
    "    return aggregated\n",
    "\n",
    "def calc_lr_matches(grants):\n",
    "    matches = {}\n",
    "    for recipient in grants:\n",
    "        sum_sqrts = sum([i**(1/2) for i in grants[recipient].values()])\n",
    "        squared = sum_sqrts**2\n",
    "        matches[recipient] = squared\n",
    "    return matches\n",
    "\n",
    "def constrain_by_budget(matches, budget):\n",
    "    raw_total = sum(matches.values())\n",
    "    constrained = {key:value/raw_total * budget for key, value in matches.items()}\n",
    "    return constrained"
   ]
  },
  {
   "cell_type": "code",
   "execution_count": null,
   "metadata": {},
   "outputs": [],
   "source": []
  },
  {
   "cell_type": "code",
   "execution_count": 20,
   "metadata": {},
   "outputs": [
    {
     "name": "stdout",
     "output_type": "stream",
     "text": [
      "1407.8504533652772\n"
     ]
    }
   ],
   "source": [
    "grants = join_raw_data(recipients, funders, contributions)\n",
    "aggregate(grants)\n",
    "matches = calc_lr_matches(aggregate(grants))\n",
    "clr = constrain_by_budget(matches, match_budget)"
   ]
  },
  {
   "cell_type": "code",
   "execution_count": 13,
   "metadata": {},
   "outputs": [
    {
     "name": "stdout",
     "output_type": "stream",
     "text": [
      "{3: 190.86074726974323, 4: 125.68882040742385, 1: 151.6992462263972, 2: 285.1220958227697, 0: 331.7948110180401}\n"
     ]
    }
   ],
   "source": [
    "print(matches)"
   ]
  },
  {
   "cell_type": "code",
   "execution_count": 22,
   "metadata": {},
   "outputs": [
    {
     "name": "stdout",
     "output_type": "stream",
     "text": [
      "{4: 1281.2677219752443, 1: 1775.3805747601632, 2: 1021.6109569860131, 0: 1194.0085276320328, 3: 727.732218646546}\n"
     ]
    }
   ],
   "source": [
    "print(clr)"
   ]
  },
  {
   "cell_type": "code",
   "execution_count": null,
   "metadata": {},
   "outputs": [],
   "source": []
  }
 ],
 "metadata": {
  "kernelspec": {
   "display_name": "quadratic-funding",
   "language": "python",
   "name": "quadratic-funding"
  },
  "language_info": {
   "codemirror_mode": {
    "name": "ipython",
    "version": 3
   },
   "file_extension": ".py",
   "mimetype": "text/x-python",
   "name": "python",
   "nbconvert_exporter": "python",
   "pygments_lexer": "ipython3",
   "version": "3.8.1"
  }
 },
 "nbformat": 4,
 "nbformat_minor": 2
}
