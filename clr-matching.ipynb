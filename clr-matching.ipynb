{
 "cells": [
  {
   "cell_type": "code",
   "execution_count": 1,
   "metadata": {},
   "outputs": [],
   "source": [
    "import random"
   ]
  },
  {
   "cell_type": "code",
   "execution_count": 7,
   "metadata": {},
   "outputs": [],
   "source": [
    "match_budget = 1000\n",
    "\n",
    "# generate some sample contributions to play with\n",
    "\n",
    "grantors = range(20)\n",
    "\n",
    "grant_amounts = [random.randint(1, 20) for i in range(25)]\n",
    "\n",
    "grant_makers = \n"
   ]
  },
  {
   "cell_type": "code",
   "execution_count": 9,
   "metadata": {},
   "outputs": [
    {
     "name": "stdout",
     "output_type": "stream",
     "text": [
      "[3, 13, 6, 16, 12, 5, 2, 11, 4, 4, 14, 11, 18, 11, 8, 4, 2, 8, 5, 6, 3, 12, 19, 5, 12]\n"
     ]
    }
   ],
   "source": [
    "print(grants)"
   ]
  },
  {
   "cell_type": "code",
   "execution_count": null,
   "metadata": {},
   "outputs": [],
   "source": []
  }
 ],
 "metadata": {
  "kernelspec": {
   "display_name": "quadratic-funding",
   "language": "python",
   "name": "quadratic-funding"
  },
  "language_info": {
   "codemirror_mode": {
    "name": "ipython",
    "version": 3
   },
   "file_extension": ".py",
   "mimetype": "text/x-python",
   "name": "python",
   "nbconvert_exporter": "python",
   "pygments_lexer": "ipython3",
   "version": "3.8.1"
  }
 },
 "nbformat": 4,
 "nbformat_minor": 2
}
