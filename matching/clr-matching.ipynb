{
 "cells": [
  {
   "cell_type": "code",
   "execution_count": null,
   "metadata": {},
   "outputs": [],
   "source": [
    "import random\n",
    "import pandas as pd\n",
    "import matplotlib.pyplot as plt\n",
    "import seaborn as sns\n",
    "\n",
    "from eth_utils import humanize_hash, to_bytes\n",
    "from web3 import Web3, HTTPProvider\n",
    "from clr import *\n",
    "\n",
    "import eth_chicago_QF_contract_abi"
   ]
  },
  {
   "cell_type": "code",
   "execution_count": null,
   "metadata": {},
   "outputs": [],
   "source": [
    "simulation = True\n",
    " \n",
    "if simulation: # randomly generate projects, backers, and contribution amounts for simulation and testing\n",
    "    n_backers = 40\n",
    "    n_contribs = int(n_backers * 2.5)\n",
    "\n",
    "    contr_distr = [1, 2, 4, 8, 16] # exponential distribution\n",
    "    big_contr_distr = [i * 10**18 for i in contr_distr]\n",
    "\n",
    "    project_ids = ['pizza', 'bonding_curve', 'tcr', 'pool_together', 'unisocks_fork'] + \\\n",
    "                    ['pizza']*3 + ['tcr']*2 + ['unisocks_fork']*5 # different project weightings\n",
    "    backer_ids = ['0x' + str(i) for i in range(10000000, 10000000 + n_backers)]\n",
    "\n",
    "    # create clr() input arrays\n",
    "    projects = random.choices(project_ids, k = n_contribs)\n",
    "    backers = random.choices(backer_ids, k = n_contribs)\n",
    "    contribution_amounts = random.choices(big_contr_distr, k = n_contribs)\n",
    "    \n",
    "else: # read contribution data from the smart contract\n",
    "    network = 'rinkeby' # set manually\n",
    "    \n",
    "    # get project id from .env\n",
    "    import os\n",
    "    from dotenv import load_dotenv\n",
    "    load_dotenv()\n",
    "    infura_project_id = os.getenv(\"INFURA_PROJECT_ID\")\n",
    "    \n",
    "    infura_url = 'https://' + network + '.infura.io/v3/' + infura_project_id\n",
    "    w3 = Web3(Web3.HTTPProvider(infura_url))\n",
    "\n",
    "    eth_chicago_QF_contract_address = Web3.toChecksumAddress('0x834da8ad37f5bfc96f16209f74424ad9093a5aee')\n",
    "    eth_chicago_QF_contract = w3.eth.contract(address = eth_chicago_QF_contract_address, \n",
    "                                              abi = eth_chicago_QF_contract_abi.abi)\n",
    "    \n",
    "#     project_names = ['paul'] # add these manually\n",
    "    project_count = eth_chicago_QF_contract.functions.getProjectCount().call()\n",
    "    project_names = []\n",
    "    for index in range(project_count):\n",
    "        project = eth_chicago_QF_contract.functions.getProjectNicknameAtIndex(index).call()\n",
    "        project_names.append(project)\n",
    "\n",
    "    projects = []\n",
    "    backers = []\n",
    "    contribution_amounts = []\n",
    "\n",
    "    for project in project_names:\n",
    "        contribution_count = eth_chicago_QF_contract.functions.getContributionCount(project).call()\n",
    "        for index in range(contribution_count):\n",
    "            projects.append(project)\n",
    "\n",
    "            backer = eth_chicago_QF_contract.functions.getBackerAtIndex(project, index).call()\n",
    "            backers.append(backer)\n",
    "\n",
    "            amount = eth_chicago_QF_contract.functions.getAmountAtIndex(project, index).call()\n",
    "            contribution_amounts.append(amount)"
   ]
  },
  {
   "cell_type": "code",
   "execution_count": null,
   "metadata": {},
   "outputs": [],
   "source": [
    "match_budget = 2000\n",
    "grants, lr_matches, clr_matches = clr(projects, backers, contribution_amounts, match_budget)"
   ]
  },
  {
   "cell_type": "code",
   "execution_count": null,
   "metadata": {
    "scrolled": true
   },
   "outputs": [],
   "source": [
    "# create tidy dataframe with all data\n",
    "# columns: project, backer, contribution, backer_total, project_grant, LR_match, CLR_match\n",
    "# rows: unique observations\n",
    "\n",
    "df = pd.DataFrame.from_dict(grants) \\\n",
    "    .rename_axis('backer').reset_index() \\\n",
    "    .melt(id_vars = ['backer'], value_name = 'contribution_amount') \\\n",
    "    .rename(columns = {'variable':'project'}) \\\n",
    "    .dropna().reset_index(drop = True) \\\n",
    "    .assign(backer_short = lambda d: d['backer'].map(lambda backer: humanize_hash(to_bytes(hexstr = backer))),\n",
    "            backer_total_contribution = lambda d: d.groupby('backer')['contribution_amount'].transform('sum'),\n",
    "            project_total_contribution = lambda d: d.groupby('project')['contribution_amount'].transform('sum'),\n",
    "            LR_match = lambda d: d['project'].map(lambda project: lr_matches[project]),\n",
    "            CLR_match = lambda d: d['project'].map(lambda project: clr_matches[project])\n",
    "           ) \\\n",
    "    .sort_values(by = 'backer_total_contribution', ascending = False)\n",
    "\n",
    "df['project_total_grant'] = df.project_total_contribution + df.CLR_match\n",
    "df['contribution_match'] = (df.contribution_amount / df.project_total_contribution) * df.CLR_match\n",
    "df['matching_ratio'] = df.contribution_match / df.contribution_amount"
   ]
  },
  {
   "cell_type": "code",
   "execution_count": null,
   "metadata": {},
   "outputs": [],
   "source": [
    "# tidy dataframe at the recipient level\n",
    "by_recip = df.groupby('project').max().drop(['backer',\n",
    "                                                   'backer_short', \n",
    "                                                   'backer_total_contribution',\n",
    "                                                   'contribution_amount',\n",
    "                                                   'contribution_match'], axis = 1)\n",
    "by_recip['contribution_count'] = df.groupby('project')['contribution_amount'].count()\n",
    "by_recip['mean_contribution'] = df.groupby('project')['contribution_amount'].mean()\n",
    "by_recip = by_recip.sort_values(by = 'project_total_grant', ascending = False)\n",
    "\n",
    "# dataframe with rounded values for presentation\n",
    "rounded = by_recip.round(2).round({'contribution_count': 0})"
   ]
  },
  {
   "cell_type": "code",
   "execution_count": null,
   "metadata": {},
   "outputs": [],
   "source": [
    "# setup plotting\n",
    "%matplotlib inline\n",
    "sns.set(style = 'darkgrid', context = 'talk')"
   ]
  },
  {
   "cell_type": "code",
   "execution_count": null,
   "metadata": {},
   "outputs": [],
   "source": [
    "# plot contributions by recipient\n",
    "ax = sns.swarmplot(x = 'project', y = 'contribution_amount', dodge = False, data = df)\n",
    "ax.set_xlabel('')\n",
    "ax.set_xticklabels(ax.get_xticklabels(), rotation=45, horizontalalignment='right')\n",
    "ax.set_ylabel('Contribution amount (DAI)')\n",
    "ax.set_title('Aggregated backer contributions by project') ;"
   ]
  },
  {
   "cell_type": "code",
   "execution_count": null,
   "metadata": {},
   "outputs": [],
   "source": [
    "ax = sns.barplot(data = df, y = 'backer_short', x = 'backer_total_contribution', orient = 'h') \n",
    "ax.set_xlabel('Amount contributed (DAI)')\n",
    "ax.set_ylabel('Backer')\n",
    "ax.set_title('Total amount contributed per backer') ;"
   ]
  },
  {
   "cell_type": "code",
   "execution_count": null,
   "metadata": {},
   "outputs": [],
   "source": [
    "rounded"
   ]
  },
  {
   "cell_type": "code",
   "execution_count": null,
   "metadata": {},
   "outputs": [],
   "source": [
    "# plot clr matches by project total contribution by mean contribution\n",
    "ax = sns.relplot(data = by_recip, x = 'project_total_contribution', y = 'matching_ratio', \n",
    "                size = 'mean_contribution', height = 5, aspect = 2)\n",
    "ax.set(xlabel = 'Total contribution (DAI)', \n",
    "       ylabel = 'Matching ratio',\n",
    "       title = 'Matching ratio vs. total contribution',\n",
    "       xlim = 0,\n",
    "       ylim = 0) ;"
   ]
  },
  {
   "cell_type": "code",
   "execution_count": null,
   "metadata": {},
   "outputs": [],
   "source": [
    "# #plot grant sums by number of funders by recipient\n",
    "# sns.relplot(x = 'contribution_count', y = 'CLR_match', size = 'project_total_contribution', data = by_recip,\n",
    "#            height = 5, aspect = 2) ;"
   ]
  },
  {
   "cell_type": "code",
   "execution_count": null,
   "metadata": {},
   "outputs": [],
   "source": [
    "# #plot clr match by project total contribution by mean contribution\n",
    "# sns.relplot(x = 'project_total_contribution', y = 'CLR_match', size = 'mean_contribution', data = by_recip,\n",
    "#            height = 5, aspect = 2) ;"
   ]
  },
  {
   "cell_type": "code",
   "execution_count": null,
   "metadata": {},
   "outputs": [],
   "source": [
    "# #plot contribution amount against contribution match amount, colored by project\n",
    "# sns.relplot(data = df, x = 'contribution_amount', y = 'contribution_match', hue = 'project',\n",
    "#            height = 5, aspect = 2) ;"
   ]
  },
  {
   "cell_type": "code",
   "execution_count": null,
   "metadata": {},
   "outputs": [],
   "source": [
    "# marginal = pd.DataFrame(columns = ['project', 'marginal_contribution', 'marginal_match', 'old_clr', 'new_clr'])\n",
    "\n",
    "# for project in set(project_ids):\n",
    "#     max_contrib = 1024 # find better name for amount\n",
    "    \n",
    "#     old_match = clr_matches[project]\n",
    "    \n",
    "#     new_projects = projects + [project]\n",
    "    \n",
    "#     for i in range(0, max_contrib):\n",
    "#         new_contrib = i\n",
    "#         nc_bigunits = new_contrib * 10**18\n",
    "        \n",
    "#         new_backers = backers + ['0x10000099']        \n",
    "#         new_contribs = contribution_amounts + [nc_bigunits]\n",
    "        \n",
    "#         new_grants, new_lr, new_clr = clr(new_projects, new_backers, new_contribs, match_budget)\n",
    "#         new_match = new_clr[project]\n",
    "#         marginal_match = new_match - old_match\n",
    "        \n",
    "#         to_add = pd.DataFrame([[project, new_contrib, marginal_match, old_match, new_clr[project]],], \n",
    "#                               columns=['project', \n",
    "#                                         'marginal_contribution',\n",
    "#                                         'marginal_match',\n",
    "#                                         'old_clr',\n",
    "#                                         'new_clr'])\n",
    "#         marginal = marginal.append(to_add, ignore_index = True)\n",
    "\n",
    "        \n",
    "    "
   ]
  },
  {
   "cell_type": "code",
   "execution_count": null,
   "metadata": {},
   "outputs": [],
   "source": [
    "# sns.relplot(data = marginal, x = 'marginal_contribution', y = 'marginal_match', hue = 'project', \n",
    "#             kind = 'line', height = 8, aspect = 1.5) ;"
   ]
  },
  {
   "cell_type": "code",
   "execution_count": null,
   "metadata": {},
   "outputs": [],
   "source": [
    "# sns.relplot(data = marginal, x = 'marginal_contribution', y = 'marginal_match', hue = 'project', \n",
    "#             kind = 'line', height = 8, aspect = 1.5)\n",
    "# plt.xscale('log', basex=2) \n",
    "# plt.xlim(2**0) ;"
   ]
  },
  {
   "cell_type": "code",
   "execution_count": null,
   "metadata": {},
   "outputs": [],
   "source": []
  }
 ],
 "metadata": {
  "kernelspec": {
   "display_name": "clr-matching",
   "language": "python",
   "name": "clr-matching"
  },
  "language_info": {
   "codemirror_mode": {
    "name": "ipython",
    "version": 3
   },
   "file_extension": ".py",
   "mimetype": "text/x-python",
   "name": "python",
   "nbconvert_exporter": "python",
   "pygments_lexer": "ipython3",
   "version": "3.8.1"
  }
 },
 "nbformat": 4,
 "nbformat_minor": 2
}
