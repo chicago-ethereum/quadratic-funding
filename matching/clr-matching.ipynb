{
 "cells": [
  {
   "cell_type": "code",
   "execution_count": null,
   "metadata": {},
   "outputs": [],
   "source": [
    "import random\n",
    "import pandas as pd\n",
    "import seaborn as sns\n",
    "\n",
    "from eth_utils import humanize_hash, to_bytes\n",
    "from clr import *"
   ]
  },
  {
   "cell_type": "code",
   "execution_count": null,
   "metadata": {},
   "outputs": [],
   "source": [
    "match_budget = 6000\n",
    "\n",
    "# generate some sample contributions to play with\n",
    "\n",
    "recipient_ids = ['pizza', 'bonding_curve', 'tcr', 'pool_together', 'unisocks_fork']\n",
    "funder_ids = ['0x' + str(i) for i in range(10000000, 10000020)]\n",
    "\n",
    "recipients = random.choices(recipient_ids, k = 40)\n",
    "funders = random.choices(funder_ids, k = 40)\n",
    "contributions = [random.randint(1, 10) * 10**18 for i in range(40)]\n"
   ]
  },
  {
   "cell_type": "code",
   "execution_count": null,
   "metadata": {},
   "outputs": [],
   "source": [
    "grants, lr_matches, clr_matches = clr(recipients, funders, contributions, match_budget)"
   ]
  },
  {
   "cell_type": "code",
   "execution_count": null,
   "metadata": {},
   "outputs": [],
   "source": [
    "# create tidy dataframe with all data\n",
    "# columns: recipient, funder, contribution, funder_total, recipient_grant, LR_match, CLR_match\n",
    "# rows: unique observations\n",
    "\n",
    "df = pd.DataFrame.from_dict(grants) \\\n",
    "    .rename_axis('funder').reset_index() \\\n",
    "    .melt(id_vars = ['funder'], value_name = 'contribution') \\\n",
    "    .rename(columns = {'variable':'recipient'}) \\\n",
    "    .dropna().reset_index(drop = True) \\\n",
    "    .assign(short_funder = lambda d: d['funder'].map(lambda funder: humanize_hash(to_bytes(hexstr = funder))),\n",
    "            funder_total_contribution = lambda d: d.groupby('funder')['contribution'].transform('sum'),\n",
    "            recipient_grant = lambda d: d.groupby('recipient')['contribution'].transform('sum'),\n",
    "            LR_match = lambda d: d['recipient'].map(lambda recipient: lr_matches[recipient]),\n",
    "            CLR_match = lambda d: d['recipient'].map(lambda recipient: clr_matches[recipient]),\n",
    "            total_grant = df.recipient_grant + df.CLR_match\n",
    "           )\n",
    "\n",
    "\n",
    "# df2 = df.groupby('funder').sum()\n",
    "# df2\n",
    "\n",
    "df.head()"
   ]
  },
  {
   "cell_type": "code",
   "execution_count": null,
   "metadata": {},
   "outputs": [],
   "source": [
    "# setup plotting\n",
    "%matplotlib inline\n",
    "sns.set_style('whitegrid')"
   ]
  },
  {
   "cell_type": "code",
   "execution_count": null,
   "metadata": {},
   "outputs": [],
   "source": [
    "by_recip = df.groupby('recipient').max().drop(['funder',\n",
    "                                                   'short_funder', \n",
    "                                                   'funder_total_contribution',\n",
    "                                                   'contribution'], axis = 1)\n",
    "by_recip['contributions'] = df.groupby('recipient')['contribution'].count()\n",
    "by_recip['mean_contrib'] = df.groupby('recipient')['contribution'].mean()\n",
    "by_recip = by_recip.sort_values(by = 'total_grant', ascending = False)\n",
    "\n",
    "by_recip"
   ]
  },
  {
   "cell_type": "code",
   "execution_count": null,
   "metadata": {},
   "outputs": [],
   "source": [
    "# plot grant sums by number of funders by recipient\n",
    "sns.relplot(x = 'contributions', y = 'CLR_match', size = 'mean_contrib', data = by_recip) ;"
   ]
  },
  {
   "cell_type": "code",
   "execution_count": null,
   "metadata": {},
   "outputs": [],
   "source": [
    "# plot clr matches + grant sums by recipient\n",
    "sns.relplot(x = 'recipient_grant', y = 'CLR_match', size = 'contributions', data = by_recip) ;"
   ]
  },
  {
   "cell_type": "code",
   "execution_count": null,
   "metadata": {},
   "outputs": [],
   "source": [
    "# plot contributions\n",
    "sns.swarmplot(x = 'recipient', y = 'contribution', data = df) ;"
   ]
  },
  {
   "cell_type": "code",
   "execution_count": null,
   "metadata": {},
   "outputs": [],
   "source": []
  }
 ],
 "metadata": {
  "kernelspec": {
   "display_name": "clr-matching",
   "language": "python",
   "name": "clr-matching"
  },
  "language_info": {
   "codemirror_mode": {
    "name": "ipython",
    "version": 3
   },
   "file_extension": ".py",
   "mimetype": "text/x-python",
   "name": "python",
   "nbconvert_exporter": "python",
   "pygments_lexer": "ipython3",
   "version": "3.8.1"
  }
 },
 "nbformat": 4,
 "nbformat_minor": 2
}
